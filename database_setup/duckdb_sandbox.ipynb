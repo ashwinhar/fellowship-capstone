{
 "cells": [
  {
   "cell_type": "code",
   "execution_count": 4,
   "id": "ed1abfd4-76f2-4227-a04c-7700da33010a",
   "metadata": {},
   "outputs": [],
   "source": [
    "import duckdb\n",
    "import pandas as pd\n",
    "from sodapy import Socrata\n",
    "import config\n",
    "\n",
    "client = Socrata(\"data.ny.gov\",\n",
    "                  config.API_TOKEN,\n",
    "                  username=config.NY_OPEN_DATA_USERNAME,\n",
    "                  password=config.NY_OPEN_DATA_PASSWORD)\n",
    "\n",
    "results = client.get(\"39hk-dx4f\", limit=2000)\n",
    "\n",
    "# Convert to pandas DataFrame\n",
    "results_df = pd.DataFrame.from_records(results)\n"
   ]
  },
  {
   "cell_type": "code",
   "execution_count": 2,
   "id": "a3c970ea-3447-4693-ac7d-e1860052c50b",
   "metadata": {},
   "outputs": [],
   "source": [
    "%load_ext sql\n",
    "conn = duckdb.connect(\"mta.db\")\n",
    "%sql conn --alias duckdb\n",
    "\n"
   ]
  },
  {
   "cell_type": "code",
   "execution_count": 7,
   "id": "6eb66057-f91a-409c-bf3b-fd6bd8994f68",
   "metadata": {},
   "outputs": [],
   "source": [
    "duckdb.sql(\"CREATE TABLE stations AS SELECT * FROM results_df\")"
   ]
  },
  {
   "cell_type": "code",
   "execution_count": 3,
   "id": "42193640-d51b-4fa0-b2ce-185800a18d15",
   "metadata": {},
   "outputs": [
    {
     "ename": "CatalogException",
     "evalue": "Catalog Error: Table with name stations does not exist!\nDid you mean \"pg_settings\"?",
     "output_type": "error",
     "traceback": [
      "\u001b[0;31m---------------------------------------------------------------------------\u001b[0m",
      "\u001b[0;31mCatalogException\u001b[0m                          Traceback (most recent call last)",
      "Cell \u001b[0;32mIn[3], line 1\u001b[0m\n\u001b[0;32m----> 1\u001b[0m \u001b[43mduckdb\u001b[49m\u001b[38;5;241;43m.\u001b[39;49m\u001b[43msql\u001b[49m\u001b[43m(\u001b[49m\u001b[38;5;124;43m\"\u001b[39;49m\u001b[38;5;124;43mselect distinct line from stations\u001b[39;49m\u001b[38;5;124;43m\"\u001b[39;49m\u001b[43m)\u001b[49m\n",
      "\u001b[0;31mCatalogException\u001b[0m: Catalog Error: Table with name stations does not exist!\nDid you mean \"pg_settings\"?"
     ]
    }
   ],
   "source": [
    "duckdb.sql(\"select distinct line from stations\")"
   ]
  },
  {
   "cell_type": "code",
   "execution_count": 5,
   "id": "2f189298",
   "metadata": {},
   "outputs": [
    {
     "ename": "NameError",
     "evalue": "name 'conn' is not defined",
     "output_type": "error",
     "traceback": [
      "\u001b[0;31m---------------------------------------------------------------------------\u001b[0m",
      "\u001b[0;31mNameError\u001b[0m                                 Traceback (most recent call last)",
      "Cell \u001b[0;32mIn[5], line 1\u001b[0m\n\u001b[0;32m----> 1\u001b[0m \u001b[43mconn\u001b[49m\u001b[38;5;241m.\u001b[39mclose()\n",
      "\u001b[0;31mNameError\u001b[0m: name 'conn' is not defined"
     ]
    }
   ],
   "source": [
    "conn.close()"
   ]
  },
  {
   "cell_type": "code",
   "execution_count": null,
   "id": "92a191a5",
   "metadata": {},
   "outputs": [],
   "source": []
  }
 ],
 "metadata": {
  "kernelspec": {
   "display_name": "capstone",
   "language": "python",
   "name": "python3"
  },
  "language_info": {
   "codemirror_mode": {
    "name": "ipython",
    "version": 3
   },
   "file_extension": ".py",
   "mimetype": "text/x-python",
   "name": "python",
   "nbconvert_exporter": "python",
   "pygments_lexer": "ipython3",
   "version": "3.12.4"
  }
 },
 "nbformat": 4,
 "nbformat_minor": 5
}
