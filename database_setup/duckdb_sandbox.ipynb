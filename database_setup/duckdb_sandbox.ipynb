{
 "cells": [
  {
   "cell_type": "code",
   "execution_count": 1,
   "id": "ed1abfd4-76f2-4227-a04c-7700da33010a",
   "metadata": {},
   "outputs": [
    {
     "name": "stdout",
     "output_type": "stream",
     "text": [
      "Intel MKL WARNING: Support of Intel(R) Streaming SIMD Extensions 4.2 (Intel(R) SSE4.2) enabled only processors has been deprecated. Intel oneAPI Math Kernel Library 2025.0 will require Intel(R) Advanced Vector Extensions (Intel(R) AVX) instructions.\n",
      "Intel MKL WARNING: Support of Intel(R) Streaming SIMD Extensions 4.2 (Intel(R) SSE4.2) enabled only processors has been deprecated. Intel oneAPI Math Kernel Library 2025.0 will require Intel(R) Advanced Vector Extensions (Intel(R) AVX) instructions.\n"
     ]
    }
   ],
   "source": [
    "import duckdb\n",
    "import pandas as pd\n",
    "from sodapy import Socrata\n",
    "import config\n",
    "\n",
    "client = Socrata(\"data.ny.gov\",\n",
    "                  config.API_TOKEN,\n",
    "                  username=config.NY_OPEN_DATA_USERNAME,\n",
    "                  password=config.NY_OPEN_DATA_PASSWORD)\n",
    "\n",
    "results = client.get(\"39hk-dx4f\", limit=2000)\n",
    "\n",
    "# Convert to pandas DataFrame\n",
    "results_df = pd.DataFrame.from_records(results)\n"
   ]
  },
  {
   "cell_type": "code",
   "execution_count": 2,
   "id": "a3c970ea-3447-4693-ac7d-e1860052c50b",
   "metadata": {},
   "outputs": [],
   "source": [
    "%load_ext sql\n",
    "conn = duckdb.connect(config.DEV_DATABASE)\n",
    "%sql conn --alias duckdb\n"
   ]
  },
  {
   "cell_type": "code",
   "execution_count": 6,
   "id": "6eb66057-f91a-409c-bf3b-fd6bd8994f68",
   "metadata": {},
   "outputs": [
    {
     "ename": "CatalogException",
     "evalue": "Catalog Error: Table with name \"stations\" already exists!",
     "output_type": "error",
     "traceback": [
      "\u001b[0;31m---------------------------------------------------------------------------\u001b[0m",
      "\u001b[0;31mCatalogException\u001b[0m                          Traceback (most recent call last)",
      "Cell \u001b[0;32mIn[6], line 1\u001b[0m\n\u001b[0;32m----> 1\u001b[0m \u001b[43mconn\u001b[49m\u001b[38;5;241;43m.\u001b[39;49m\u001b[43msql\u001b[49m\u001b[43m(\u001b[49m\u001b[38;5;124;43m\"\u001b[39;49m\u001b[38;5;124;43mCREATE TABLE stations AS SELECT * FROM results_df\u001b[39;49m\u001b[38;5;124;43m\"\u001b[39;49m\u001b[43m)\u001b[49m\n",
      "\u001b[0;31mCatalogException\u001b[0m: Catalog Error: Table with name \"stations\" already exists!"
     ]
    }
   ],
   "source": [
    "conn.sql(\"CREATE TABLE stations AS SELECT * FROM results_df\")"
   ]
  },
  {
   "cell_type": "code",
   "execution_count": 3,
   "id": "42193640-d51b-4fa0-b2ce-185800a18d15",
   "metadata": {},
   "outputs": [
    {
     "data": {
      "text/plain": [
       "┌────────────────────┐\n",
       "│        line        │\n",
       "│      varchar       │\n",
       "├────────────────────┤\n",
       "│ Crosstown          │\n",
       "│ Dyre Av            │\n",
       "│ Canarsie           │\n",
       "│ Broadway - 7Av     │\n",
       "│ Eastern Pky        │\n",
       "│ Manhattan Bridge   │\n",
       "│ West End           │\n",
       "│ Staten Island      │\n",
       "│ 8th Av - Fulton St │\n",
       "│ Concourse          │\n",
       "│    ·               │\n",
       "│    ·               │\n",
       "│    ·               │\n",
       "│ Broadway           │\n",
       "│ Jamaica            │\n",
       "│ Franklin Shuttle   │\n",
       "│ Queens Blvd        │\n",
       "│ Jerome Av          │\n",
       "│ Sea Beach          │\n",
       "│ Myrtle Av          │\n",
       "│ Queens - Archer    │\n",
       "│ Nostrand           │\n",
       "│ Second Av          │\n",
       "├────────────────────┤\n",
       "│ 34 rows (20 shown) │\n",
       "└────────────────────┘"
      ]
     },
     "execution_count": 3,
     "metadata": {},
     "output_type": "execute_result"
    }
   ],
   "source": [
    "conn.sql(\"select distinct line from stations\")"
   ]
  },
  {
   "cell_type": "code",
   "execution_count": 4,
   "id": "2f189298",
   "metadata": {},
   "outputs": [],
   "source": [
    "conn.close()"
   ]
  },
  {
   "cell_type": "code",
   "execution_count": 5,
   "id": "92a191a5",
   "metadata": {},
   "outputs": [],
   "source": [
    "conn = duckdb.connect(config.DEV_DATABASE)"
   ]
  },
  {
   "cell_type": "code",
   "execution_count": 6,
   "id": "8b6a0aee",
   "metadata": {},
   "outputs": [
    {
     "data": {
      "text/plain": [
       "┌──────────────┬────────────┬────────────┬──────────┬─────────────────────┬──────────────────────┬─────────┬─────────┬────────────────┬────────────┬───────────────┬────────────────┬───────────────────────┬───────────────────────┬─────────┬────────────────┬────────────────┬─────────────────────────────────────────────────────────┬─────────────────────────────┬─────────────────────────────┬─────────────────────────────┬─────────────┐\n",
       "│ gtfs_stop_id │ station_id │ complex_id │ division │        line         │      stop_name       │ borough │   cbd   │ daytime_routes │ structure  │ gtfs_latitude │ gtfs_longitude │ north_direction_label │ south_direction_label │   ada   │ ada_northbound │ ada_southbound │                      georeference                       │ :@computed_region_yamh_8v7k │ :@computed_region_wbg7_3whc │ :@computed_region_kjdx_g34t │  ada_notes  │\n",
       "│   varchar    │  varchar   │  varchar   │ varchar  │       varchar       │       varchar        │ varchar │ varchar │    varchar     │  varchar   │    varchar    │    varchar     │        varchar        │        varchar        │ varchar │    varchar     │    varchar     │      struct(\"type\" varchar, coordinates double[])       │           varchar           │           varchar           │           varchar           │   varchar   │\n",
       "├──────────────┼────────────┼────────────┼──────────┼─────────────────────┼──────────────────────┼─────────┼─────────┼────────────────┼────────────┼───────────────┼────────────────┼───────────────────────┼───────────────────────┼─────────┼────────────────┼────────────────┼─────────────────────────────────────────────────────────┼─────────────────────────────┼─────────────────────────────┼─────────────────────────────┼─────────────┤\n",
       "│ R01          │ 1          │ 1          │ BMT      │ Astoria             │ Astoria-Ditmars Blvd │ Q       │ FALSE   │ N W            │ Elevated   │ 40.775036     │ -73.912034     │ Last Stop             │ Manhattan             │ 0       │ 0              │ 0              │ {'type': Point, 'coordinates': [-73.912034, 40.775036]} │ 196                         │ 877                         │ 2137                        │ NULL        │\n",
       "│ R03          │ 2          │ 2          │ BMT      │ Astoria             │ Astoria Blvd         │ Q       │ FALSE   │ N W            │ Elevated   │ 40.770258     │ -73.917843     │ Astoria               │ Manhattan             │ 1       │ 1              │ 1              │ {'type': Point, 'coordinates': [-73.917843, 40.770258]} │ 196                         │ 874                         │ 2137                        │ NULL        │\n",
       "│ R04          │ 3          │ 3          │ BMT      │ Astoria             │ 30 Av                │ Q       │ FALSE   │ N W            │ Elevated   │ 40.766779     │ -73.921479     │ Astoria               │ Manhattan             │ 0       │ 0              │ 0              │ {'type': Point, 'coordinates': [-73.921479, 40.766779]} │ 196                         │ 874                         │ 2137                        │ NULL        │\n",
       "│ R05          │ 4          │ 4          │ BMT      │ Astoria             │ Broadway             │ Q       │ FALSE   │ N W            │ Elevated   │ 40.76182      │ -73.925508     │ Astoria               │ Manhattan             │ 0       │ 0              │ 0              │ {'type': Point, 'coordinates': [-73.925508, 40.76182]}  │ 196                         │ 878                         │ 2137                        │ NULL        │\n",
       "│ R06          │ 5          │ 5          │ BMT      │ Astoria             │ 36 Av                │ Q       │ FALSE   │ N W            │ Elevated   │ 40.756804     │ -73.929575     │ Astoria               │ Manhattan             │ 0       │ 0              │ 0              │ {'type': Point, 'coordinates': [-73.929575, 40.756804]} │ 196                         │ 878                         │ 2137                        │ NULL        │\n",
       "│ R08          │ 6          │ 6          │ BMT      │ Astoria             │ 39 Av-Dutch Kills    │ Q       │ FALSE   │ N W            │ Elevated   │ 40.752882     │ -73.932755     │ Astoria               │ Manhattan             │ 0       │ 0              │ 0              │ {'type': Point, 'coordinates': [-73.932755, 40.752882]} │ 196                         │ 873                         │ 2137                        │ NULL        │\n",
       "│ R11          │ 7          │ 613        │ BMT      │ Astoria             │ Lexington Av/59 St   │ M       │ TRUE    │ N R W          │ Subway     │ 40.76266      │ -73.967258     │ Queens                │ Downtown              │ 0       │ 0              │ 0              │ {'type': Point, 'coordinates': [-73.967258, 40.76266]}  │ 749                         │ 749                         │ 2095                        │ NULL        │\n",
       "│ R13          │ 8          │ 8          │ BMT      │ Astoria             │ 5 Av/59 St           │ M       │ TRUE    │ N R W          │ Subway     │ 40.764811     │ -73.973347     │ Queens                │ Downtown              │ 0       │ 0              │ 0              │ {'type': Point, 'coordinates': [-73.973347, 40.764811]} │ 749                         │ NULL                        │ 2095                        │ NULL        │\n",
       "│ R14          │ 9          │ 9          │ BMT      │ Broadway - Brighton │ 57 St-7 Av           │ M       │ TRUE    │ N Q R W        │ Subway     │ 40.764664     │ -73.980658     │ Uptown                │ Downtown              │ 1       │ 1              │ 1              │ {'type': Point, 'coordinates': [-73.980658, 40.764664]} │ 749                         │ 742                         │ 2095                        │ NULL        │\n",
       "│ R15          │ 10         │ 10         │ BMT      │ Broadway - Brighton │ 49 St                │ M       │ TRUE    │ N R W          │ Subway     │ 40.759901     │ -73.984139     │ Uptown                │ Downtown              │ 2       │ 1              │ 0              │ {'type': Point, 'coordinates': [-73.984139, 40.759901]} │ 749                         │ 742                         │ 2095                        │ Uptown only │\n",
       "│  ·           │ ·          │ ·          │  ·       │       ·             │   ·                  │ ·       │  ·      │  ·             │   ·        │    ·          │     ·          │   ·                   │    ·                  │ ·       │ ·              │ ·              │                           ·                             │  ·                          │  ·                          │  ·                          │  ·          │\n",
       "│  ·           │ ·          │ ·          │  ·       │       ·             │   ·                  │ ·       │  ·      │  ·             │   ·        │    ·          │     ·          │   ·                   │    ·                  │ ·       │ ·              │ ·              │                           ·                             │  ·                          │  ·                          │  ·                          │  ·          │\n",
       "│  ·           │ ·          │ ·          │  ·       │       ·             │   ·                  │ ·       │  ·      │  ·             │   ·        │    ·          │     ·          │   ·                   │    ·                  │ ·       │ ·              │ ·              │                           ·                             │  ·                          │  ·                          │  ·                          │  ·          │\n",
       "│ S20          │ 512        │ 512        │ SIR      │ Staten Island       │ Bay Terrace          │ SI      │ FALSE   │ SIR            │ Embankment │ 40.5564       │ -74.136907     │ Ferry                 │ South Shore           │ 0       │ 0              │ 0              │ {'type': Point, 'coordinates': [-74.136907, 40.5564]}   │ 585                         │ 609                         │ 2139                        │ NULL        │\n",
       "│ S19          │ 513        │ 513        │ SIR      │ Staten Island       │ Great Kills          │ SI      │ FALSE   │ SIR            │ Open Cut   │ 40.551231     │ -74.151399     │ Ferry                 │ South Shore           │ 1       │ 1              │ 1              │ {'type': Point, 'coordinates': [-74.151399, 40.551231]} │ 585                         │ 611                         │ 2139                        │ NULL        │\n",
       "│ S18          │ 514        │ 514        │ SIR      │ Staten Island       │ Eltingville          │ SI      │ FALSE   │ SIR            │ Embankment │ 40.544601     │ -74.16457      │ Ferry                 │ South Shore           │ 0       │ 0              │ 0              │ {'type': Point, 'coordinates': [-74.16457, 40.544601]}  │ 585                         │ 615                         │ 2139                        │ NULL        │\n",
       "│ S17          │ 515        │ 515        │ SIR      │ Staten Island       │ Annadale             │ SI      │ FALSE   │ SIR            │ Open Cut   │ 40.54046      │ -74.178217     │ Ferry                 │ South Shore           │ 0       │ 0              │ 0              │ {'type': Point, 'coordinates': [-74.178217, 40.54046]}  │ 585                         │ 615                         │ 2139                        │ NULL        │\n",
       "│ S16          │ 516        │ 516        │ SIR      │ Staten Island       │ Huguenot             │ SI      │ FALSE   │ SIR            │ Open Cut   │ 40.533674     │ -74.191794     │ Ferry                 │ South Shore           │ 0       │ 0              │ 0              │ {'type': Point, 'coordinates': [-74.191794, 40.533674]} │ 585                         │ 615                         │ 2139                        │ NULL        │\n",
       "│ S15          │ 517        │ 517        │ SIR      │ Staten Island       │ Prince's Bay         │ SI      │ FALSE   │ SIR            │ Open Cut   │ 40.525507     │ -74.200064     │ Ferry                 │ South Shore           │ 0       │ 0              │ 0              │ {'type': Point, 'coordinates': [-74.200064, 40.525507]} │ 585                         │ 612                         │ 2139                        │ NULL        │\n",
       "│ S14          │ 518        │ 518        │ SIR      │ Staten Island       │ Pleasant Plains      │ SI      │ FALSE   │ SIR            │ Embankment │ 40.52241      │ -74.217847     │ Ferry                 │ South Shore           │ 0       │ 0              │ 0              │ {'type': Point, 'coordinates': [-74.217847, 40.52241]}  │ 585                         │ 612                         │ 2139                        │ NULL        │\n",
       "│ S13          │ 519        │ 519        │ SIR      │ Staten Island       │ Richmond Valley      │ SI      │ FALSE   │ SIR            │ Open Cut   │ 40.519631     │ -74.229141     │ Ferry                 │ Tottenville           │ 0       │ 0              │ 0              │ {'type': Point, 'coordinates': [-74.229141, 40.519631]} │ 585                         │ 612                         │ 2139                        │ NULL        │\n",
       "│ S09          │ 522        │ 522        │ SIR      │ Staten Island       │ Tottenville          │ SI      │ FALSE   │ SIR            │ At Grade   │ 40.512764     │ -74.251961     │ Ferry                 │ Last Stop             │ 1       │ 1              │ 1              │ {'type': Point, 'coordinates': [-74.251961, 40.512764]} │ 585                         │ 610                         │ NULL                        │ NULL        │\n",
       "│ S11          │ 523        │ 523        │ SIR      │ Staten Island       │ Arthur Kill          │ SI      │ FALSE   │ SIR            │ At Grade   │ 40.516578     │ -74.242096     │ Ferry                 │ Tottenville           │ 1       │ 1              │ 1              │ {'type': Point, 'coordinates': [-74.242096, 40.516578]} │ 585                         │ 610                         │ 2139                        │ NULL        │\n",
       "├──────────────┴────────────┴────────────┴──────────┴─────────────────────┴──────────────────────┴─────────┴─────────┴────────────────┴────────────┴───────────────┴────────────────┴───────────────────────┴───────────────────────┴─────────┴────────────────┴────────────────┴─────────────────────────────────────────────────────────┴─────────────────────────────┴─────────────────────────────┴─────────────────────────────┴─────────────┤\n",
       "│ 496 rows (20 shown)                                                                                                                                                                                                                                                                                                                                                                                                                  22 columns │\n",
       "└─────────────────────────────────────────────────────────────────────────────────────────────────────────────────────────────────────────────────────────────────────────────────────────────────────────────────────────────────────────────────────────────────────────────────────────────────────────────────────────────────────────────────────────────────────────────────────────────────────────────────────────────────────────────────┘"
      ]
     },
     "execution_count": 6,
     "metadata": {},
     "output_type": "execute_result"
    }
   ],
   "source": [
    "conn.sql(\"select * from stations\")"
   ]
  },
  {
   "cell_type": "code",
   "execution_count": 7,
   "id": "761f498a",
   "metadata": {},
   "outputs": [],
   "source": [
    "conn.close()"
   ]
  },
  {
   "cell_type": "code",
   "execution_count": null,
   "id": "b1332be3",
   "metadata": {},
   "outputs": [],
   "source": []
  }
 ],
 "metadata": {
  "kernelspec": {
   "display_name": "capstone",
   "language": "python",
   "name": "python3"
  },
  "language_info": {
   "codemirror_mode": {
    "name": "ipython",
    "version": 3
   },
   "file_extension": ".py",
   "mimetype": "text/x-python",
   "name": "python",
   "nbconvert_exporter": "python",
   "pygments_lexer": "ipython3",
   "version": "3.12.4"
  }
 },
 "nbformat": 4,
 "nbformat_minor": 5
}
